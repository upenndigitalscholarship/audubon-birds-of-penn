{
 "cells": [
  {
   "cell_type": "markdown",
   "id": "7007cc03",
   "metadata": {},
   "source": [
    "# Audubon in Action: Creative Approaches in Data\n",
    "\n",
    "During [Earth Week Data Jam](https://www.library.upenn.edu/about/exhibits-events/earth-week-data-jam), join Penn Libraries' Research Data and Digital Scholarship team (and friends) as we create, analyze, visualize, and experiment with data related to environmental issues and the natural world. Whether you're interested in learning how to decode professional data visualizations, working with qualitative data, or building your own data set from the ground up, we hope you find something that meets your needs.\n",
    "\n",
    "In this notebook, we'll create mosaics, Instagram posts, and a sound file for all the birds in the [Birds of Philadelphia](https://www.inaturalist.org/projects/birds-of-philadelphia) iNaturalist dataset. \n",
    "\n",
    "* [Import What We Need](#Import-What-We-Need)\n",
    "* [Load the Data](#Load-the-Data)\n",
    "* [Build Mosaics](#Build-a-Mosaic)\n",
    "* [Build Instagram Posts](#Build-an-Instagram-Post)\n",
    "* [Build a Sound File](#Build-a-Sound-File)\n",
    "* [Credits](#Credits)"
   ]
  },
  {
   "cell_type": "markdown",
   "id": "27eb6a86",
   "metadata": {},
   "source": [
    "## Import What We Need"
   ]
  },
  {
   "cell_type": "code",
   "execution_count": null,
   "id": "203d1132",
   "metadata": {},
   "outputs": [],
   "source": [
    "# Download latest FFmpeg static build.  \n",
    "exist = !which ffmpeg\n",
    "if not exist:\n",
    "  !curl https://johnvansickle.com/ffmpeg/releases/ffmpeg-release-amd64-static.tar.xz -o ffmpeg.tar.xz \\\n",
    "     && tar -xf ffmpeg.tar.xz && rm ffmpeg.tar.xz\n",
    "  ffmdir = !find . -iname ffmpeg-*-static\n",
    "  path = %env PATH\n",
    "  path = path + ':' + ffmdir[0]\n",
    "  %env PATH $path\n",
    "\n",
    "!which ffmpeg\n",
    "\n",
    "!pip install -r requirements.txt\n",
    "import pandas as pd\n",
    "import os\n",
    "import subprocess\n",
    "from PIL import Image  \n",
    "from PIL import ImageFont\n",
    "from PIL import ImageDraw\n",
    "from pydub import AudioSegment\n",
    "import os, random\n",
    "import pandas as pd\n",
    "import numpy as np\n",
    "import os\n",
    "import re\n",
    "#from IPython.display import Image\n",
    "import datetime\n",
    "from datetime import date\n",
    "\n",
    "\n",
    "your_name = input(\"Include your name for credit: \")"
   ]
  },
  {
   "cell_type": "markdown",
   "id": "d82d117b",
   "metadata": {},
   "source": [
    "## Load the Data"
   ]
  },
  {
   "cell_type": "code",
   "execution_count": null,
   "id": "19972274",
   "metadata": {},
   "outputs": [],
   "source": [
    "directory_path = os.getcwd()\n",
    "pa_birds = pd.read_csv(\"data/philly_birds_workshop.csv\")"
   ]
  },
  {
   "cell_type": "markdown",
   "id": "2a95dea9",
   "metadata": {},
   "source": [
    "## Build Mosaics"
   ]
  },
  {
   "cell_type": "code",
   "execution_count": null,
   "id": "37d068e1",
   "metadata": {},
   "outputs": [],
   "source": [
    "for i in range(0,pa_birds.shape[0]):\n",
    "    common_name = pa_birds['bird_name'].iloc[i]\n",
    "    print(common_name)\n",
    "    target = pa_birds['audubon_img'].iloc[i]\n",
    "    target = f'{directory_path}/plates/' + target\n",
    "    images = pa_birds['inaturalist_folder'].iloc[i]\n",
    "    images = f'{directory_path}/' + images\n",
    "    output = pa_birds['mosaic_img'].iloc[i]\n",
    "    output = f'{directory_path}/' + output\n",
    "    command = \"python Mosaic_Creator.py --target \" + target + \" --images \" + images + \" --grid 100 100 --output \" + output\n",
    "    subprocess.run([command],shell=True)"
   ]
  },
  {
   "cell_type": "markdown",
   "id": "ecde1f83",
   "metadata": {},
   "source": [
    "## Build Instagram Posts"
   ]
  },
  {
   "cell_type": "code",
   "execution_count": null,
   "id": "45719a7e",
   "metadata": {},
   "outputs": [],
   "source": [
    "# to build display\n",
    "\n",
    "width = 1080\n",
    "height = 1080\n",
    "\n",
    "for idx, row in pa_birds.iterrows():\n",
    "    first_line = row.common_name\n",
    "    second_line = row.scientific_name\n",
    "    third_line = \"Observed \" + str(row['count']) + \" times since June 19, 2020\"\n",
    "    \n",
    "    obs = row.observed_on # double check that this works\n",
    "    obs = datetime.datetime.strptime(obs,'%Y-%m-%d')\n",
    "    obs = obs.strftime(\"%B %e, %Y\")\n",
    "    obs = re.sub(' +', ' ', obs)\n",
    "    \n",
    "    fourth_line = \"Last spotted \" + str(obs) + \" near \" + row.place_guess\n",
    "    fifth_line = \"Created by \" + your_name + \" for Audubon in Action at the Earth Week Data Jam 2022\"\n",
    "\n",
    "    orig_image = f'{directory_path}/' + row.audubon_img\n",
    "    created_image = f'{directory_path}/' + row.mosaic_img\n",
    "    output = f'{directory_path}/' + row.display_img\n",
    "\n",
    "    img  = Image.new(mode = \"RGB\", size = (width, height), color = (255,255,255))\n",
    "    img1 = Image.open(orig_image)\n",
    "    img2 = Image.open(created_image)\n",
    "    img1 = img1.resize((400,400))\n",
    "    img2 = img2.resize((400,400))\n",
    "    img.paste(img1, (0,0))\n",
    "    img.paste(img2, (680,0))\n",
    "    \n",
    "    draw = ImageDraw.Draw(img)\n",
    "    font = ImageFont.truetype(f\"{directory_path}/fonts/Roboto/Roboto-Regular.ttf\", size=12)\n",
    "    credit = \"Courtesy of the John James Audubon Center at Mill Grove,\\nMontgomery County Audubon Collection, and Zebra Publishing\"\n",
    "    draw.text((180,450), credit, (0,0,0), font=font, anchor=\"mm\", align=\"left\")\n",
    "    \n",
    "    font = ImageFont.truetype(f\"{directory_path}/fonts/Roboto/Roboto-Bold.ttf\", size=52)\n",
    "    draw.text((540,520), first_line, (0,0,0), font=font, anchor=\"mm\", align=\"center\")\n",
    "\n",
    "    font = ImageFont.truetype(f\"{directory_path}/fonts/Roboto/Roboto-Italic.ttf\", size=32)\n",
    "    draw.text((540,580), second_line, (0,0,0), font=font, anchor=\"mm\", align=\"center\")\n",
    "\n",
    "    font = ImageFont.truetype(f\"{directory_path}/fonts/Roboto/Roboto-Regular.ttf\", size=22)\n",
    "    draw.text((540,680), third_line, (0,0,0), font=font, anchor=\"mm\", align=\"center\")\n",
    "\n",
    "    font = ImageFont.truetype(f\"{directory_path}/fonts/Roboto/Roboto-Regular.ttf\", size=22)\n",
    "    draw.text((540,720), fourth_line, (0,0,0), font=font, anchor=\"mm\", align=\"center\")\n",
    "\n",
    "    font = ImageFont.truetype(f\"{directory_path}/fonts/Roboto/Roboto-Regular.ttf\", size=12)\n",
    "    draw.text((540,1000), fifth_line, (0,0,0), font=font, anchor=\"mm\", align=\"center\")\n",
    "\n",
    "    img.save(output)"
   ]
  },
  {
   "cell_type": "markdown",
   "id": "9782f615",
   "metadata": {},
   "source": [
    "## Build a Sound File\n",
    "\n",
    "Now we'll build a unified sound file of all the birds represented in the project. "
   ]
  },
  {
   "cell_type": "code",
   "execution_count": null,
   "id": "98b8bca4",
   "metadata": {},
   "outputs": [],
   "source": [
    "inaturalist_data = pd.read_csv(\"data/observations-218728.csv\")\n",
    "list_of_licenses = ['CC-BY-NC', 'CC-BY-NC-SA', 'CC-BY', 'CC0', 'CC-BY-SA', 'CC-BY-NC-ND']\n",
    "inaturalist_data = inaturalist_data.loc[inaturalist_data['license'].isin(list_of_licenses)].reset_index() \n",
    "birds_to_include = pa_birds['common_name'].to_list()\n",
    "inaturalist_data = inaturalist_data[inaturalist_data['common_name'].isin(birds_to_include)]\n",
    "inaturalist_data = inaturalist_data[inaturalist_data['observed_on'].str.startswith('2021')].reset_index()\n",
    "dates = inaturalist_data['observed_on'].to_list()\n",
    "start_date = datetime.datetime.strptime(\"2021-1-1\",'%Y-%m-%d')\n",
    "days_dates = {}\n",
    "for day in dates: \n",
    "    end_date = datetime.datetime.strptime(day, '%Y-%m-%d')\n",
    "    delta = end_date - start_date\n",
    "    days_dates[delta.days] = day"
   ]
  },
  {
   "cell_type": "code",
   "execution_count": null,
   "id": "4d5cd9f7",
   "metadata": {},
   "outputs": [],
   "source": [
    "# to display sound\n",
    "from pydub.playback import play\n",
    "res = int(list(days_dates.keys())[0])\n",
    "all_sounds = AudioSegment.silent(duration=1)\n",
    "all_sounds.duration_seconds == int(delta.days)\n",
    "\n",
    "for i in range(res,int(delta.days)):\n",
    "    print(i)\n",
    "    if i in days_dates.keys():\n",
    "        print(\"yes\")\n",
    "        value = days_dates[i]\n",
    "        spotted_birds = inaturalist_data[inaturalist_data['observed_on']==value].reset_index(drop=True)\n",
    "        print(spotted_birds.shape[0])\n",
    "        common_name = spotted_birds['common_name'].loc[spotted_birds.index[0]]\n",
    "        print(common_name)\n",
    "        bird_name = common_name.lower()\n",
    "        bird_name = '-'.join(bird_name.split())\n",
    "        sounds_folder = f'{directory_path}/sounds/' + bird_name\n",
    "        sound_file = random.choice(os.listdir(sounds_folder))\n",
    "        sound_type = sound_file.rsplit('.')[1]\n",
    "        sound_file = sounds_folder + \"/\" + sound_file\n",
    "        print(sound_file)\n",
    "        sound = AudioSegment.from_file(sound_file, sound_type)\n",
    "        sound = sound[1000:2000]\n",
    "        combined = sound + 10\n",
    "        for idx, row in spotted_birds[1:].iterrows(): \n",
    "            common_name = spotted_birds['common_name'].loc[spotted_birds.index[idx]]\n",
    "            bird_name = common_name.lower()\n",
    "            bird_name = '-'.join(bird_name.split())\n",
    "            sounds_folder = f'{directory_path}/sounds/' + bird_name\n",
    "            sound_file = random.choice(os.listdir(sounds_folder))\n",
    "            sound_type = sound_file.rsplit('.')[1]\n",
    "            sound_file = sounds_folder + \"/\" + sound_file\n",
    "            sound = AudioSegment.from_file(sound_file, sound_type)\n",
    "            sound = sound[1000:2000]\n",
    "            sound = sound + 15\n",
    "            combined.overlay(sound)\n",
    "            #play(combined)\n",
    "    else:\n",
    "        print(\"no\")\n",
    "        combined = AudioSegment.silent(duration=1000)\n",
    "    all_sounds = all_sounds + combined\n",
    "all_sounds.export(\"sounds/2021-all-output.mp3\", format=\"mp3\")\n",
    "print(\"sound created!\")"
   ]
  },
  {
   "cell_type": "markdown",
   "id": "7900b104",
   "metadata": {},
   "source": [
    "## Credits\n",
    "\n",
    "Created by [Emily Esten](https://www.library.upenn.edu/people/staff/emily-esten) for Earth Week Data Jam 2022.\n",
    "\n",
    "The Center for Research Data and Digital Scholarship facilitates data-driven and data-literate research and scholarship across the disciplines in order to fster informed and ethical data communites at Penn. Interested in data, computational research, digital humanities, or open and public scholarship? Find us on the [Penn Libraries website](https://www.library.upenn.edu/help-with/research-data-digital-scholarship). "
   ]
  }
 ],
 "metadata": {
  "kernelspec": {
   "display_name": "Python 3 (ipykernel)",
   "language": "python",
   "name": "python3"
  },
  "language_info": {
   "codemirror_mode": {
    "name": "ipython",
    "version": 3
   },
   "file_extension": ".py",
   "mimetype": "text/x-python",
   "name": "python",
   "nbconvert_exporter": "python",
   "pygments_lexer": "ipython3",
   "version": "3.8.12"
  }
 },
 "nbformat": 4,
 "nbformat_minor": 5
}
